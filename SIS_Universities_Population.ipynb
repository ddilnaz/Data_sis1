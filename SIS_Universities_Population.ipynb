{
 "cells": [
  {
   "cell_type": "markdown",
   "id": "22eaf9d6",
   "metadata": {},
   "source": [
    "# Project: Population & Hospitals\n",
    "# Author: Dilnaz Zeinolla & Zhumanova Zhanel\n",
    "# Course: Data Collection & Preparation\n",
    "# Date: October 2025\n",
    "\n",
    "\"\"\"\n",
    "Цель проекта:\n",
    "Исследовать, как количество больниц связано с численностью населения и долей пожилых людей (65+)\n",
    "в разных странах, используя реальные данные из World Bank API и Wikipedia.\n",
    "\"\"\"\n"
   ]
  },
  {
   "cell_type": "code",
   "execution_count": 8,
   "id": "c70f520a",
   "metadata": {},
   "outputs": [],
   "source": [
    "import requests\n",
    "import pandas as pd\n",
    "from bs4 import BeautifulSoup\n",
    "import matplotlib.pyplot as plt\n",
    "\n",
    "countries = [\n",
    "    {\"name\": \"Kazakhstan\", \"iso2\": \"KZ\", \"region\": \"Asia\"},\n",
    "    {\"name\": \"Japan\", \"iso2\": \"JP\", \"region\": \"Asia\"},\n",
    "    {\"name\": \"Germany\", \"iso2\": \"DE\", \"region\": \"Europe\"},\n",
    "    {\"name\": \"France\", \"iso2\": \"FR\", \"region\": \"Europe\"},\n",
    "    {\"name\": \"United States\", \"iso2\": \"US\", \"region\": \"North America\"},\n",
    "    {\"name\": \"Canada\", \"iso2\": \"CA\", \"region\": \"North America\"}\n",
    "]"
   ]
  },
  {
   "cell_type": "markdown",
   "id": "9df84f8a",
   "metadata": {},
   "source": [
    "Получение данных из World Bank API"
   ]
  },
  {
   "cell_type": "code",
   "execution_count": 9,
   "id": "b456c26c",
   "metadata": {},
   "outputs": [
    {
     "data": {
      "text/html": [
       "<div>\n",
       "<style scoped>\n",
       "    .dataframe tbody tr th:only-of-type {\n",
       "        vertical-align: middle;\n",
       "    }\n",
       "\n",
       "    .dataframe tbody tr th {\n",
       "        vertical-align: top;\n",
       "    }\n",
       "\n",
       "    .dataframe thead th {\n",
       "        text-align: right;\n",
       "    }\n",
       "</style>\n",
       "<table border=\"1\" class=\"dataframe\">\n",
       "  <thead>\n",
       "    <tr style=\"text-align: right;\">\n",
       "      <th></th>\n",
       "      <th>Country</th>\n",
       "      <th>Region</th>\n",
       "      <th>Population</th>\n",
       "      <th>Elderly_percent</th>\n",
       "    </tr>\n",
       "  </thead>\n",
       "  <tbody>\n",
       "    <tr>\n",
       "      <th>0</th>\n",
       "      <td>Kazakhstan</td>\n",
       "      <td>Asia</td>\n",
       "      <td>20592571</td>\n",
       "      <td>8.653235</td>\n",
       "    </tr>\n",
       "    <tr>\n",
       "      <th>1</th>\n",
       "      <td>Japan</td>\n",
       "      <td>Asia</td>\n",
       "      <td>123975371</td>\n",
       "      <td>29.780770</td>\n",
       "    </tr>\n",
       "    <tr>\n",
       "      <th>2</th>\n",
       "      <td>Germany</td>\n",
       "      <td>Europe</td>\n",
       "      <td>83510950</td>\n",
       "      <td>23.195587</td>\n",
       "    </tr>\n",
       "    <tr>\n",
       "      <th>3</th>\n",
       "      <td>France</td>\n",
       "      <td>Europe</td>\n",
       "      <td>68516699</td>\n",
       "      <td>22.146562</td>\n",
       "    </tr>\n",
       "    <tr>\n",
       "      <th>4</th>\n",
       "      <td>United States</td>\n",
       "      <td>North America</td>\n",
       "      <td>340110988</td>\n",
       "      <td>17.928730</td>\n",
       "    </tr>\n",
       "    <tr>\n",
       "      <th>5</th>\n",
       "      <td>Canada</td>\n",
       "      <td>North America</td>\n",
       "      <td>41288599</td>\n",
       "      <td>19.799591</td>\n",
       "    </tr>\n",
       "  </tbody>\n",
       "</table>\n",
       "</div>"
      ],
      "text/plain": [
       "         Country         Region  Population  Elderly_percent\n",
       "0     Kazakhstan           Asia    20592571         8.653235\n",
       "1          Japan           Asia   123975371        29.780770\n",
       "2        Germany         Europe    83510950        23.195587\n",
       "3         France         Europe    68516699        22.146562\n",
       "4  United States  North America   340110988        17.928730\n",
       "5         Canada  North America    41288599        19.799591"
      ]
     },
     "execution_count": 9,
     "metadata": {},
     "output_type": "execute_result"
    }
   ],
   "source": [
    "population_data = []\n",
    "\n",
    "for country in countries:\n",
    "    pop_url = f\"https://api.worldbank.org/v2/country/{country['iso2']}/indicator/SP.POP.TOTL?format=json\"\n",
    "    elderly_url = f\"https://api.worldbank.org/v2/country/{country['iso2']}/indicator/SP.POP.65UP.TO.ZS?format=json\"\n",
    "\n",
    "    pop_resp = requests.get(pop_url).json()\n",
    "    elderly_resp = requests.get(elderly_url).json()\n",
    "\n",
    "    pop_value = next(item[\"value\"] for item in pop_resp[1] if item[\"value\"] is not None)\n",
    "    elderly_percent = next(item[\"value\"] for item in elderly_resp[1] if item[\"value\"] is not None)\n",
    "\n",
    "    population_data.append({\n",
    "        \"Country\": country[\"name\"],\n",
    "        \"Region\": country[\"region\"],\n",
    "        \"Population\": int(pop_value),\n",
    "        \"Elderly_percent\": elderly_percent\n",
    "    })\n",
    "\n",
    "df_population = pd.DataFrame(population_data)\n",
    "df_population\n"
   ]
  },
  {
   "cell_type": "markdown",
   "id": "c1b0bc80",
   "metadata": {},
   "source": [
    "Скрапинг Wikipedia"
   ]
  },
  {
   "cell_type": "code",
   "execution_count": 10,
   "id": "a5f74091",
   "metadata": {},
   "outputs": [
    {
     "data": {
      "text/html": [
       "<div>\n",
       "<style scoped>\n",
       "    .dataframe tbody tr th:only-of-type {\n",
       "        vertical-align: middle;\n",
       "    }\n",
       "\n",
       "    .dataframe tbody tr th {\n",
       "        vertical-align: top;\n",
       "    }\n",
       "\n",
       "    .dataframe thead th {\n",
       "        text-align: right;\n",
       "    }\n",
       "</style>\n",
       "<table border=\"1\" class=\"dataframe\">\n",
       "  <thead>\n",
       "    <tr style=\"text-align: right;\">\n",
       "      <th></th>\n",
       "      <th>Country</th>\n",
       "      <th>Hospitals</th>\n",
       "    </tr>\n",
       "  </thead>\n",
       "  <tbody>\n",
       "    <tr>\n",
       "      <th>0</th>\n",
       "      <td>Kazakhstan</td>\n",
       "      <td>160</td>\n",
       "    </tr>\n",
       "    <tr>\n",
       "      <th>1</th>\n",
       "      <td>Japan</td>\n",
       "      <td>379</td>\n",
       "    </tr>\n",
       "    <tr>\n",
       "      <th>2</th>\n",
       "      <td>Germany</td>\n",
       "      <td>75</td>\n",
       "    </tr>\n",
       "    <tr>\n",
       "      <th>3</th>\n",
       "      <td>France</td>\n",
       "      <td>156</td>\n",
       "    </tr>\n",
       "    <tr>\n",
       "      <th>4</th>\n",
       "      <td>United States</td>\n",
       "      <td>415</td>\n",
       "    </tr>\n",
       "    <tr>\n",
       "      <th>5</th>\n",
       "      <td>Canada</td>\n",
       "      <td>712</td>\n",
       "    </tr>\n",
       "  </tbody>\n",
       "</table>\n",
       "</div>"
      ],
      "text/plain": [
       "         Country  Hospitals\n",
       "0     Kazakhstan        160\n",
       "1          Japan        379\n",
       "2        Germany         75\n",
       "3         France        156\n",
       "4  United States        415\n",
       "5         Canada        712"
      ]
     },
     "execution_count": 10,
     "metadata": {},
     "output_type": "execute_result"
    }
   ],
   "source": [
    "import requests\n",
    "from bs4 import BeautifulSoup\n",
    "import pandas as pd\n",
    "\n",
    "hospital_data = []\n",
    "\n",
    "wiki_links = {\n",
    "    \"Kazakhstan\": \"https://en.wikipedia.org/wiki/List_of_hospitals_in_Kazakhstan\",\n",
    "    \"Japan\": \"https://en.wikipedia.org/wiki/List_of_hospitals_in_Japan\",\n",
    "    \"Germany\": \"https://en.wikipedia.org/wiki/List_of_hospitals_in_Germany\",\n",
    "    \"France\": \"https://en.wikipedia.org/wiki/List_of_hospitals_in_France\",\n",
    "    \"United States\": \"https://en.wikipedia.org/wiki/List_of_hospitals_in_the_United_States\",\n",
    "    \"Canada\": \"https://en.wikipedia.org/wiki/List_of_hospitals_in_Canada\"\n",
    "}\n",
    "\n",
    "headers = {\"User-Agent\": \"Mozilla/5.0\"}\n",
    "\n",
    "for country, url in wiki_links.items():\n",
    "    r = requests.get(url, headers=headers)\n",
    "    soup = BeautifulSoup(r.text, \"lxml\")\n",
    "\n",
    "    content = soup.find(\"div\", {\"class\": \"mw-parser-output\"})\n",
    "    if content:\n",
    "        hospitals = len(content.find_all(\"li\"))\n",
    "    else:\n",
    "        hospitals = 0\n",
    "\n",
    "    hospital_data.append({\"Country\": country, \"Hospitals\": hospitals})\n",
    "\n",
    "df_hospitals = pd.DataFrame(hospital_data)\n",
    "df_hospitals\n"
   ]
  },
  {
   "cell_type": "markdown",
   "id": "cbc7f198",
   "metadata": {},
   "source": [
    "Объединение и расчёт метрик"
   ]
  },
  {
   "cell_type": "code",
   "execution_count": 11,
   "id": "cda6d0d6",
   "metadata": {},
   "outputs": [
    {
     "data": {
      "text/html": [
       "<div>\n",
       "<style scoped>\n",
       "    .dataframe tbody tr th:only-of-type {\n",
       "        vertical-align: middle;\n",
       "    }\n",
       "\n",
       "    .dataframe tbody tr th {\n",
       "        vertical-align: top;\n",
       "    }\n",
       "\n",
       "    .dataframe thead th {\n",
       "        text-align: right;\n",
       "    }\n",
       "</style>\n",
       "<table border=\"1\" class=\"dataframe\">\n",
       "  <thead>\n",
       "    <tr style=\"text-align: right;\">\n",
       "      <th></th>\n",
       "      <th>Country</th>\n",
       "      <th>Region</th>\n",
       "      <th>Population</th>\n",
       "      <th>Elderly_percent</th>\n",
       "      <th>Hospitals</th>\n",
       "      <th>Elderly_population</th>\n",
       "      <th>Hospitals_per_million</th>\n",
       "      <th>Hospitals_per_million_elderly</th>\n",
       "    </tr>\n",
       "  </thead>\n",
       "  <tbody>\n",
       "    <tr>\n",
       "      <th>0</th>\n",
       "      <td>Kazakhstan</td>\n",
       "      <td>Asia</td>\n",
       "      <td>20592571</td>\n",
       "      <td>8.653235</td>\n",
       "      <td>160</td>\n",
       "      <td>1.781923e+06</td>\n",
       "      <td>7.769792</td>\n",
       "      <td>89.790611</td>\n",
       "    </tr>\n",
       "    <tr>\n",
       "      <th>1</th>\n",
       "      <td>Japan</td>\n",
       "      <td>Asia</td>\n",
       "      <td>123975371</td>\n",
       "      <td>29.780770</td>\n",
       "      <td>379</td>\n",
       "      <td>3.692082e+07</td>\n",
       "      <td>3.057059</td>\n",
       "      <td>10.265211</td>\n",
       "    </tr>\n",
       "    <tr>\n",
       "      <th>2</th>\n",
       "      <td>Germany</td>\n",
       "      <td>Europe</td>\n",
       "      <td>83510950</td>\n",
       "      <td>23.195587</td>\n",
       "      <td>75</td>\n",
       "      <td>1.937086e+07</td>\n",
       "      <td>0.898086</td>\n",
       "      <td>3.871796</td>\n",
       "    </tr>\n",
       "    <tr>\n",
       "      <th>3</th>\n",
       "      <td>France</td>\n",
       "      <td>Europe</td>\n",
       "      <td>68516699</td>\n",
       "      <td>22.146562</td>\n",
       "      <td>156</td>\n",
       "      <td>1.517409e+07</td>\n",
       "      <td>2.276817</td>\n",
       "      <td>10.280680</td>\n",
       "    </tr>\n",
       "    <tr>\n",
       "      <th>4</th>\n",
       "      <td>United States</td>\n",
       "      <td>North America</td>\n",
       "      <td>340110988</td>\n",
       "      <td>17.928730</td>\n",
       "      <td>415</td>\n",
       "      <td>6.097758e+07</td>\n",
       "      <td>1.220190</td>\n",
       "      <td>6.805780</td>\n",
       "    </tr>\n",
       "    <tr>\n",
       "      <th>5</th>\n",
       "      <td>Canada</td>\n",
       "      <td>North America</td>\n",
       "      <td>41288599</td>\n",
       "      <td>19.799591</td>\n",
       "      <td>712</td>\n",
       "      <td>8.174974e+06</td>\n",
       "      <td>17.244470</td>\n",
       "      <td>87.095082</td>\n",
       "    </tr>\n",
       "  </tbody>\n",
       "</table>\n",
       "</div>"
      ],
      "text/plain": [
       "         Country         Region  Population  Elderly_percent  Hospitals  \\\n",
       "0     Kazakhstan           Asia    20592571         8.653235        160   \n",
       "1          Japan           Asia   123975371        29.780770        379   \n",
       "2        Germany         Europe    83510950        23.195587         75   \n",
       "3         France         Europe    68516699        22.146562        156   \n",
       "4  United States  North America   340110988        17.928730        415   \n",
       "5         Canada  North America    41288599        19.799591        712   \n",
       "\n",
       "   Elderly_population  Hospitals_per_million  Hospitals_per_million_elderly  \n",
       "0        1.781923e+06               7.769792                      89.790611  \n",
       "1        3.692082e+07               3.057059                      10.265211  \n",
       "2        1.937086e+07               0.898086                       3.871796  \n",
       "3        1.517409e+07               2.276817                      10.280680  \n",
       "4        6.097758e+07               1.220190                       6.805780  \n",
       "5        8.174974e+06              17.244470                      87.095082  "
      ]
     },
     "execution_count": 11,
     "metadata": {},
     "output_type": "execute_result"
    }
   ],
   "source": [
    "df = pd.merge(df_population, df_hospitals, on=\"Country\")\n",
    "\n",
    "df[\"Elderly_population\"] = (df[\"Population\"] * df[\"Elderly_percent\"]) / 100\n",
    "df[\"Hospitals_per_million\"] = df[\"Hospitals\"] / (df[\"Population\"] / 1_000_000)\n",
    "df[\"Hospitals_per_million_elderly\"] = df[\"Hospitals\"] / (df[\"Elderly_population\"] / 1_000_000)\n",
    "\n",
    "df\n"
   ]
  },
  {
   "cell_type": "markdown",
   "id": "051d5941",
   "metadata": {},
   "source": [
    "Корреляция (Population vs Hospitals)"
   ]
  },
  {
   "cell_type": "code",
   "execution_count": 12,
   "id": "397d1388",
   "metadata": {},
   "outputs": [
    {
     "name": "stdout",
     "output_type": "stream",
     "text": [
      "Корреляция между населением и количеством больниц: 0.17\n"
     ]
    },
    {
     "data": {
      "image/png": "[encoded data removed]",
      "text/plain": [
       "<Figure size 640x480 with 1 Axes>"
      ]
     },
     "metadata": {},
     "output_type": "display_data"
    }
   ],
   "source": [
    "corr = df[\"Population\"].corr(df[\"Hospitals\"])\n",
    "print(\"Корреляция между населением и количеством больниц:\", round(corr, 3))\n",
    "\n",
    "plt.scatter(df[\"Population\"], df[\"Hospitals\"])\n",
    "plt.title(\"Population vs Hospitals\")\n",
    "plt.xlabel(\"Population\")\n",
    "plt.ylabel(\"Hospitals\")\n",
    "plt.show()\n"
   ]
  },
  {
   "cell_type": "markdown",
   "id": "a4a126cf",
   "metadata": {},
   "source": [
    "Active Healthcare Population (65+)"
   ]
  },
  {
   "cell_type": "code",
   "execution_count": 13,
   "id": "aede3da3",
   "metadata": {},
   "outputs": [
    {
     "data": {
      "image/png": "[encoded data removed]",
      "text/plain": [
       "<Figure size 640x480 with 1 Axes>"
      ]
     },
     "metadata": {},
     "output_type": "display_data"
    }
   ],
   "source": [
    "plt.bar(df[\"Country\"], df[\"Hospitals_per_million_elderly\"])\n",
    "plt.title(\"Hospitals per Million Elderly Population (65+)\")\n",
    "plt.ylabel(\"Hospitals per Million Elderly\")\n",
    "plt.xticks(rotation=45)\n",
    "plt.show()\n"
   ]
  },
  {
   "cell_type": "markdown",
   "id": "1dbfb7e8",
   "metadata": {},
   "source": [
    "Regional Hospital Density"
   ]
  },
  {
   "cell_type": "code",
   "execution_count": 14,
   "id": "a358719a",
   "metadata": {},
   "outputs": [
    {
     "data": {
      "image/png": "[encoded data removed]",
      "text/plain": [
       "<Figure size 640x480 with 1 Axes>"
      ]
     },
     "metadata": {},
     "output_type": "display_data"
    }
   ],
   "source": [
    "region_stats = df.groupby(\"Region\").agg({\n",
    "    \"Population\": \"sum\",\n",
    "    \"Hospitals\": \"sum\"\n",
    "}).reset_index()\n",
    "\n",
    "region_stats[\"Hospitals_per_million\"] = region_stats[\"Hospitals\"] / (region_stats[\"Population\"] / 1_000_000)\n",
    "\n",
    "plt.pie(region_stats[\"Hospitals_per_million\"], labels=region_stats[\"Region\"], autopct=\"%1.1f%%\")\n",
    "plt.title(\"Regional Hospital Density\")\n",
    "plt.show()\n"
   ]
  }
 ],
 "metadata": {
  "kernelspec": {
   "display_name": ".venv",
   "language": "python",
   "name": "python3"
  },
  "language_info": {
   "codemirror_mode": {
    "name": "ipython",
    "version": 3
   },
   "file_extension": ".py",
   "mimetype": "text/x-python",
   "name": "python",
   "nbconvert_exporter": "python",
   "pygments_lexer": "ipython3",
   "version": "3.12.2"
  }
 },
 "nbformat": 4,
 "nbformat_minor": 5
}
